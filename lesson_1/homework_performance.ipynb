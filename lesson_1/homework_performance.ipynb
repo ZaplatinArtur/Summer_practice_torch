{
 "cells": [
  {
   "cell_type": "markdown",
   "id": "c2191833",
   "metadata": {},
   "source": [
    "прикрепляю ссылку на колаб т.к нет своей видюхи:\n",
    "https://colab.research.google.com/drive/1Qf5S1-nqq4b3HsYK6-EjG5wGjgHE81Hz#scrollTo=AxcChtboPIDN"
   ]
  }
 ],
 "metadata": {
  "language_info": {
   "name": "python"
  }
 },
 "nbformat": 4,
 "nbformat_minor": 5
}
