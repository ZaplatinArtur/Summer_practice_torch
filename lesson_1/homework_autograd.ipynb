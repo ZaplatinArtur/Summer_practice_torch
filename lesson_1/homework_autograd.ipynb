{
 "cells": [
  {
   "cell_type": "markdown",
   "id": "3a1ca584",
   "metadata": {},
   "source": [
    "# Задание 2: Автоматическое дифференцирование (25 баллов)"
   ]
  },
  {
   "cell_type": "markdown",
   "id": "8e140277",
   "metadata": {},
   "source": [
    "2.1 Простые вычисления с градиентами (8 баллов)\n",
    " <br>Создайте тензоры x, y, z с requires_grad=True<br>\n",
    " <br>Вычислите функцию: f(x,y,z) = x^2 + y^2 + z^2 + 2*x*y*z<br>\n",
    " <br>Найдите градиенты по всем переменным<br>\n",
    " <br>Проверьте результат аналитически<br>"
   ]
  },
  {
   "cell_type": "code",
   "execution_count": null,
   "id": "c921fa67",
   "metadata": {},
   "outputs": [
    {
     "name": "stderr",
     "output_type": "stream",
     "text": [
      "c:\\Users\\artur\\Desktop\\practice_torch\\lesson_1\\venv\\Lib\\site-packages\\torch\\_subclasses\\functional_tensor.py:276: UserWarning: Failed to initialize NumPy: No module named 'numpy' (Triggered internally at C:\\actions-runner\\_work\\pytorch\\pytorch\\pytorch\\torch\\csrc\\utils\\tensor_numpy.cpp:81.)\n",
      "  cpu = _conversion_method_template(device=torch.device(\"cpu\"))\n"
     ]
    },
    {
     "name": "stdout",
     "output_type": "stream",
     "text": [
      "градиент x = tensor([14.])\n",
      "градиент y = tensor([10.])\n",
      "градиент z = tensor([10.])\n"
     ]
    }
   ],
   "source": [
    "import torch\n",
    "\n",
    "x = torch.tensor([1.0], requires_grad=True)\n",
    "y = torch.tensor([2.0], requires_grad=True)\n",
    "z = torch.tensor([3.0], requires_grad=True)\n",
    "\n",
    "f = x**2 + y**2 + z**2 + 2 * x * y * z\n",
    "f.backward()\n",
    "\n",
    "print(f'градиент x = {x.grad}')\n",
    "print(f'градиент y = {y.grad}')\n",
    "print(f'градиент z = {z.grad}')\n",
    "\n",
    "\n"
   ]
  },
  {
   "cell_type": "markdown",
   "id": "765f3d69",
   "metadata": {},
   "source": [
    " Проверка:\n",
    " <br>-градиент x:   2x + 2yz = 2 + 12 = 14<br>\n",
    " <br>-градиент y:   2y + 2xz = 4 + 6 = 10<br>\n",
    " <br>-градиент z:   2z + 2xy = 6 + 4 = 10<br>"
   ]
  },
  {
   "cell_type": "markdown",
   "id": "f89f55c5",
   "metadata": {},
   "source": [
    "2.2 Градиент функции потерь (9 баллов)\n",
    "<br> Реализуйте функцию MSE (Mean Squared Error):<br>\n",
    "<br>-MSE = (1/n) * Σ(y_pred - y_true)^2<br>\n",
    "<br>-где y_pred = w * x + b (линейная функция)<br>\n",
    " <br>Найдите градиенты по w и b<br>"
   ]
  },
  {
   "cell_type": "code",
   "execution_count": 2,
   "id": "258bf087",
   "metadata": {},
   "outputs": [
    {
     "name": "stdout",
     "output_type": "stream",
     "text": [
      "Градиент w: 66.0\n",
      "Градиент b: 11.0\n",
      "mse: 38.5\n",
      "\n",
      "Градиент w: 57.0\n",
      "Градиент b: 9.0\n",
      "mse: 28.5\n"
     ]
    }
   ],
   "source": [
    "def MSE(y_pred, y_true):\n",
    "    w = torch.tensor(2.0, requires_grad=True)\n",
    "    b = torch.tensor(1.0, requires_grad=True)\n",
    "    y_pred = w * x + b\n",
    "\n",
    "    n = len(y_true)\n",
    "    mse = torch.sum((y_pred - y_true)**2) / n\n",
    "\n",
    "    mse.backward()    \n",
    "    print(f\"Градиент w: {w.grad}\")\n",
    "    print(f\"Градиент b: {b.grad}\")\n",
    "    \n",
    "    return mse\n",
    "    \n",
    "\n",
    "x = torch.arange(0, 10, 1)\n",
    "y_true = torch.arange(0, 10, 1)\n",
    "print(f'mse: {MSE(x, y_true)}')\n",
    "\n",
    "print()\n",
    "\n",
    "x = torch.arange(0, 10, 1)\n",
    "y_true = torch.arange(1, 11, 1)\n",
    "print(f'mse: {MSE(x, y_true)}')"
   ]
  },
  {
   "cell_type": "markdown",
   "id": "dd4265d6",
   "metadata": {},
   "source": [
    "2.3 Цепное правило (8 баллов)\n",
    " <br>Реализуйте составную функцию: f(x) = sin(x^2 + 1)<br>\n",
    " <br>Найдите градиент df/dx<br>\n",
    " <br>Проверьте результат с помощью torch.autograd.grad<br>"
   ]
  },
  {
   "cell_type": "code",
   "execution_count": 3,
   "id": "934dc297",
   "metadata": {},
   "outputs": [
    {
     "name": "stdout",
     "output_type": "stream",
     "text": [
      "f([2.0]) = -0.9589242935180664\n",
      "Градиент через torch.autograd.grad: (tensor(1.1346),)\n"
     ]
    }
   ],
   "source": [
    "def foo(x):\n",
    "    return torch.sin(x**2 + 1)\n",
    "\n",
    "x = torch.tensor(2.0, requires_grad=True)\n",
    "f = foo(x)\n",
    "print(f'f([2.0]) = {f}')\n",
    "\n",
    "\n",
    "autograd = torch.autograd.grad(f, x, retain_graph=True)\n",
    "print(f\"Градиент через torch.autograd.grad: {autograd}\")\n",
    "# df/dx = 2x * cos(x² + 1) = 4 * 0.28366218546 = 1.13464874184"
   ]
  }
 ],
 "metadata": {
  "kernelspec": {
   "display_name": "venv",
   "language": "python",
   "name": "python3"
  },
  "language_info": {
   "codemirror_mode": {
    "name": "ipython",
    "version": 3
   },
   "file_extension": ".py",
   "mimetype": "text/x-python",
   "name": "python",
   "nbconvert_exporter": "python",
   "pygments_lexer": "ipython3",
   "version": "3.12.7"
  }
 },
 "nbformat": 4,
 "nbformat_minor": 5
}
